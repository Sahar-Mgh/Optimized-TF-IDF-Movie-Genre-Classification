{
 "cells": [
  {
   "cell_type": "markdown",
   "metadata": {},
   "source": [
    "# **TF-IDF for Movie Genre Classification**\n"
   ]
  },
  {
   "cell_type": "markdown",
   "metadata": {},
   "source": [
    "**[TF-IDF](https://en.wikipedia.org/wiki/Tf–idf)** (Term Frequency-Inverse Document Frequency) is a powerful technique for analyzing text data. In this tutorial, we'll apply TF-IDF to **movie descriptions** to automatically classify movies by their **genres**.\n",
    "\n",
    "This approach can be used for:\n",
    "* **Movie recommendation systems** - finding similar movies based on plot descriptions\n",
    "* **Content categorization** - automatically tagging movies with appropriate genres  \n",
    "* **Search and discovery** - helping users find movies that match their interests\n",
    "* **Content analysis** - understanding what makes different movie genres unique\n",
    "\n",
    "We'll work with a dataset containing thousands of movies with their titles, genres, and plot descriptions to build a machine learning model that can predict a movie's genre just from reading its plot summary!\n"
   ]
  },
  {
   "cell_type": "markdown",
   "metadata": {},
   "source": [
    "## What is TF-IDF? A Quick Refresher\n"
   ]
  },
  {
   "cell_type": "markdown",
   "metadata": {},
   "source": [
    "TF-IDF combines two important concepts:\n",
    "\n",
    "**Term Frequency (TF)**: How often does a word appear in a document (movie description)?\n",
    "- Words that appear frequently in a description are likely important for that movie\n",
    "\n",
    "**Inverse Document Frequency (IDF)**: How rare is this word across all documents?\n",
    "- Words that appear in many movies (like \"the\", \"movie\", \"story\") get lower scores\n",
    "- Unique words (like \"spaceship\", \"detective\", \"romance\") get higher scores\n",
    "\n",
    "**Example**: In a sci-fi movie description:\n",
    "- \"spaceship\" might appear 3 times (high TF) and be rare across all movies (high IDF) = **High TF-IDF score**\n",
    "- \"the\" might appear 20 times (high TF) but appears in every movie (low IDF) = **Low TF-IDF score**\n",
    "\n",
    "This helps us identify the most **characteristic** words for each movie genre!\n"
   ]
  },
  {
   "cell_type": "markdown",
   "metadata": {},
   "source": [
    "## Why Use TF-IDF for Movie Classification?\n"
   ]
  },
  {
   "cell_type": "markdown",
   "metadata": {},
   "source": [
    "Imagine you're building a movie recommendation system. When someone searches for \"space adventure\", you want to find movies that are actually about space adventures, not just movies that happen to mention \"space\" once.\n",
    "\n",
    "TF-IDF helps by:\n",
    "\n",
    "1. **Identifying genre-specific vocabulary**: Horror movies use words like \"haunted\", \"ghost\", \"terror\"\n",
    "2. **Reducing noise from common words**: Every movie description contains \"story\", \"character\", \"film\"\n",
    "3. **Capturing the essence**: A romantic comedy will have high TF-IDF scores for \"love\", \"comedy\", \"relationship\"\n",
    "\n",
    "**Real example**: If we search for movies similar to \"A romantic comedy about two people who meet at a coffee shop\", TF-IDF will give high scores to:\n",
    "- Movies with words like \"romantic\", \"comedy\", \"love\", \"relationship\" \n",
    "- And low scores to movies that just happen to mention \"coffee\" once\n",
    "\n",
    "This makes our movie classification much more accurate!\n"
   ]
  },
  {
   "cell_type": "markdown",
   "metadata": {},
   "source": [
    "# Let's Build Our Movie Genre Classifier!\n"
   ]
  },
  {
   "cell_type": "markdown",
   "metadata": {},
   "source": [
    "We'll work with a dataset containing thousands of movies. Each movie has:\n",
    "- **Title**: The movie name\n",
    "- **Genre**: The category (drama, comedy, horror, etc.)  \n",
    "- **Description**: A plot summary\n",
    "\n",
    "goal: Train a machine learning model to predict the genre just from reading the description!\n"
   ]
  },
  {
   "cell_type": "code",
   "execution_count": 1,
   "metadata": {},
   "outputs": [],
   "source": [
    "# Import the libraries we need\n",
    "import pandas as pd  # For handling data\n",
    "import numpy as np   # For numerical operations\n",
    "import matplotlib.pyplot as plt  # For creating plots\n",
    "import seaborn as sns  # For beautiful visualizations\n",
    "\n",
    "# TF-IDF and machine learning tools\n",
    "from sklearn.feature_extraction.text import TfidfVectorizer\n",
    "from sklearn.model_selection import train_test_split, cross_val_score\n",
    "from sklearn.naive_bayes import MultinomialNB\n",
    "from sklearn.linear_model import LogisticRegression\n",
    "from sklearn.ensemble import RandomForestClassifier\n",
    "from sklearn.svm import LinearSVC\n",
    "from sklearn.metrics import classification_report, confusion_matrix\n",
    "from sklearn.feature_selection import chi2\n",
    "\n",
    "# For text processing\n",
    "import re\n",
    "import string\n",
    "\n",
    "# Display settings\n",
    "from IPython.display import display\n",
    "pd.set_option('display.max_columns', None)\n",
    "pd.set_option('display.max_colwidth', 100)\n"
   ]
  },
  {
   "cell_type": "markdown",
   "metadata": {},
   "source": [
    "## Step 1: Load and Explore Movie Dataset\n"
   ]
  },
  {
   "cell_type": "code",
   "execution_count": 2,
   "metadata": {},
   "outputs": [
    {
     "name": "stdout",
     "output_type": "stream",
     "text": [
      "Dataset loaded successfully!\n",
      "Total movies: 54214\n",
      "Columns: ['ID', 'Title', 'Genre', 'Description']\n"
     ]
    }
   ],
   "source": [
    "# Load the movie dataset\n",
    "# The file format is: ID ::: Title ::: Genre ::: Description\n",
    "\n",
    "def load_movie_data(filename):\n",
    "    \"\"\"\n",
    "    Load movie data from text file and convert to pandas DataFrame\n",
    "    Each line format: ID ::: Title ::: Genre ::: Description\n",
    "    \"\"\"\n",
    "    movies = []\n",
    "    \n",
    "    with open(filename, 'r', encoding='utf-8', errors='ignore') as file:\n",
    "        for line in file:\n",
    "            # Skip empty lines\n",
    "            if line.strip():\n",
    "                # Split by ::: to get the parts\n",
    "                parts = line.strip().split(' ::: ')\n",
    "                if len(parts) >= 4:  # Make sure we have all required parts\n",
    "                    movie_id = parts[0].strip()\n",
    "                    title = parts[1].strip()\n",
    "                    genre = parts[2].strip()\n",
    "                    description = parts[3].strip()\n",
    "                    \n",
    "                    movies.append({\n",
    "                        'ID': movie_id,\n",
    "                        'Title': title,\n",
    "                        'Genre': genre,\n",
    "                        'Description': description\n",
    "                    })\n",
    "    \n",
    "    return pd.DataFrame(movies)\n",
    "\n",
    "# Load our movie dataset\n",
    "df = load_movie_data('train_data (1).txt')\n",
    "\n",
    "print(f\"Dataset loaded successfully!\")\n",
    "print(f\"Total movies: {len(df)}\")\n",
    "print(f\"Columns: {list(df.columns)}\")\n"
   ]
  },
  {
   "cell_type": "code",
   "execution_count": 13,
   "metadata": {},
   "outputs": [
    {
     "name": "stdout",
     "output_type": "stream",
     "text": [
      "First 5 movies in our dataset:\n",
      "==================================================\n",
      "Movie 1:\n",
      "Title: Oscar et la dame rose (2009)\n",
      "Genre: drama\n",
      "Description: Listening in to a conversation between his doctor and parents, 10-year-old Oscar learns what nobody has the courage to tell him. He only has a few weeks to live. Furious, he refuses to speak to anyone...\n",
      "Movie 2:\n",
      "Title: Cupid (1997)\n",
      "Genre: thriller\n",
      "Description: A brother and sister with a past incestuous relationship have a current murderous relationship. He murders the women who reject him and she murders the women who get too close to him....\n",
      "Movie 3:\n",
      "Title: Young, Wild and Wonderful (1980)\n",
      "Genre: adult\n",
      "Description: As the bus empties the students for their field trip to the Museum of Natural History, little does the tour guide suspect that the students are there for more than just another tour. First, during the...\n",
      "Movie 4:\n",
      "Title: The Secret Sin (1915)\n",
      "Genre: drama\n",
      "Description: To help their unemployed father make ends meet, Edith and her twin sister Grace work as seamstresses . An invalid, Grace falls prey to the temptations of Chinatown opium and becomes an addict, a condi...\n",
      "Movie 5:\n",
      "Title: The Unrecovered (2007)\n",
      "Genre: drama\n",
      "Description: The film's title refers not only to the un-recovered bodies at ground zero, but also to the state of the nation at large. Set in the hallucinatory period of time between September 11 and Halloween of ...\n"
     ]
    }
   ],
   "source": [
    "# Let's look at the first few movies to understand our data\n",
    "print(\"First 5 movies in our dataset:\")\n",
    "print(\"=\"*50)\n",
    "\n",
    "for i in range(5):\n",
    "    print(f\"Movie {i+1}:\")\n",
    "    print(f\"Title: {df.iloc[i]['Title']}\")\n",
    "    print(f\"Genre: {df.iloc[i]['Genre']}\")\n",
    "    print(f\"Description: {df.iloc[i]['Description'][:200]}...\")  # Show first 200 characters\n"
   ]
  },
  {
   "cell_type": "code",
   "execution_count": 4,
   "metadata": {},
   "outputs": [
    {
     "name": "stdout",
     "output_type": "stream",
     "text": [
      "Dataset Information:\n",
      "==============================\n",
      "Total movies: 54214\n",
      "Missing descriptions: 0\n",
      "Missing genres: 0\n",
      "Average description length: 599 characters\n",
      "\n",
      "After removing missing data: 54214 movies\n"
     ]
    }
   ],
   "source": [
    "# Check for missing data and basic statistics\n",
    "print(\"Dataset Information:\")\n",
    "print(\"=\"*30)\n",
    "print(f\"Total movies: {len(df)}\")\n",
    "print(f\"Missing descriptions: {df['Description'].isnull().sum()}\")\n",
    "print(f\"Missing genres: {df['Genre'].isnull().sum()}\")\n",
    "print(f\"Average description length: {df['Description'].str.len().mean():.0f} characters\")\n",
    "\n",
    "# Remove any movies with missing descriptions or genres\n",
    "df_clean = df.dropna(subset=['Description', 'Genre']).copy()\n",
    "print(f\"\\nAfter removing missing data: {len(df_clean)} movies\")\n"
   ]
  },
  {
   "cell_type": "code",
   "execution_count": 5,
   "metadata": {},
   "outputs": [
    {
     "name": "stdout",
     "output_type": "stream",
     "text": [
      "Movie Genres in Our Dataset:\n",
      "===================================\n",
      "Total unique genres: 27\n",
      "\n",
      "Top 15 most common genres:\n",
      "Genre\n",
      "drama          13613\n",
      "documentary    13096\n",
      "comedy          7447\n",
      "short           5073\n",
      "horror          2204\n",
      "thriller        1591\n",
      "action          1315\n",
      "western         1032\n",
      "reality-tv       884\n",
      "family           784\n",
      "adventure        775\n",
      "music            731\n",
      "romance          672\n",
      "sci-fi           647\n",
      "adult            590\n",
      "Name: count, dtype: int64\n"
     ]
    }
   ],
   "source": [
    "# which genres are most/least common\n",
    "print(\"Movie Genres in Our Dataset:\")\n",
    "print(\"=\"*35)\n",
    "\n",
    "genre_counts = df_clean['Genre'].value_counts()\n",
    "print(f\"Total unique genres: {len(genre_counts)}\")\n",
    "print(\"\\nTop 15 most common genres:\")\n",
    "print(genre_counts.head(15))\n"
   ]
  },
  {
   "cell_type": "code",
   "execution_count": 6,
   "metadata": {},
   "outputs": [
    {
     "data": {
      "image/png": "[encoded data removed]",
      "text/plain": [
       "<Figure size 1200x800 with 1 Axes>"
      ]
     },
     "metadata": {},
     "output_type": "display_data"
    },
    {
     "name": "stdout",
     "output_type": "stream",
     "text": [
      "\n",
      "📊 The most common genre is 'drama' with 13613 movies\n"
     ]
    }
   ],
   "source": [
    "# Create a visualization of genre distribution\n",
    "plt.figure(figsize=(12, 8))\n",
    "\n",
    "# Get top 10 genres for better visualization\n",
    "top_genres = genre_counts.head(10)\n",
    "\n",
    "# Create a horizontal bar plot\n",
    "colors = plt.cm.Set3(np.linspace(0, 1, len(top_genres)))\n",
    "bars = plt.barh(range(len(top_genres)), top_genres.values, color=colors)\n",
    "\n",
    "# Customize the plot\n",
    "plt.yticks(range(len(top_genres)), top_genres.index)\n",
    "plt.xlabel('Number of Movies')\n",
    "plt.title('Top 10 Movie Genres in Our Dataset', fontsize=16, fontweight='bold')\n",
    "plt.gca().invert_yaxis()  # Show highest count at top\n",
    "\n",
    "# Add value labels on bars\n",
    "for i, (genre, count) in enumerate(top_genres.items()):\n",
    "    plt.text(count + 50, i, str(count), va='center', fontweight='bold')\n",
    "\n",
    "plt.tight_layout()\n",
    "plt.show()\n",
    "\n",
    "print(f\"\\n📊 The most common genre is '{top_genres.index[0]}' with {top_genres.iloc[0]} movies\")\n"
   ]
  },
  {
   "cell_type": "markdown",
   "metadata": {},
   "source": [
    "## Step 2: Prepare Data for Machine Learning\n"
   ]
  },
  {
   "cell_type": "markdown",
   "metadata": {},
   "source": []
  },
  {
   "cell_type": "code",
   "execution_count": 14,
   "metadata": {},
   "outputs": [
    {
     "name": "stdout",
     "output_type": "stream",
     "text": [
      "Selected genres for classification:\n",
      "1. drama: 13613 movies\n",
      "2. documentary: 13096 movies\n",
      "3. comedy: 7447 movies\n",
      "4. short: 5073 movies\n",
      "5. horror: 2204 movies\n",
      "6. thriller: 1591 movies\n",
      "\n",
      "Filtered dataset: 43024 movies\n",
      "Working with sample of 10000 movies for faster processing\n"
     ]
    }
   ],
   "source": [
    "# Select the top 6 most common genres for our analysis\n",
    "# This gives us enough variety while keeping the problem manageable\n",
    "top_6_genres = genre_counts.head(6).index.tolist() #drama, documentary, comedy, short, horror, thriller\n",
    "print(\"Selected genres for classification:\")\n",
    "for i, genre in enumerate(top_6_genres, 1):\n",
    "    count = genre_counts[genre]\n",
    "    print(f\"{i}. {genre}: {count} movies\")\n",
    "\n",
    "# Filter dataset to only include these genres\n",
    "df_filtered = df_clean[df_clean['Genre'].isin(top_6_genres)].copy()\n",
    "print(f\"\\nFiltered dataset: {len(df_filtered)} movies\")\n",
    "\n",
    "# Take a sample for faster processing (you can increase this number if you want)\n",
    "sample_size = 10000\n",
    "if len(df_filtered) > sample_size:\n",
    "    df_sample = df_filtered.sample(n=sample_size, random_state=42).copy()\n",
    "    print(f\"Working with sample of {len(df_sample)} movies for faster processing\")\n",
    "else:\n",
    "    df_sample = df_filtered.copy()\n",
    "    print(f\"Using all {len(df_sample)} movies\")\n"
   ]
  },
  {
   "cell_type": "code",
   "execution_count": 15,
   "metadata": {},
   "outputs": [
    {
     "name": "stdout",
     "output_type": "stream",
     "text": [
      "Genre to ID mapping:\n",
      "2: comedy\n",
      "1: documentary\n",
      "0: drama\n",
      "5: horror\n",
      "3: short\n",
      "4: thriller\n",
      "\n",
      "Genre distribution in our sample:\n",
      "Genre\n",
      "drama          3185\n",
      "documentary    3066\n",
      "comedy         1751\n",
      "short          1116\n",
      "horror          496\n",
      "thriller        386\n",
      "Name: count, dtype: int64\n"
     ]
    }
   ],
   "source": [
    "# Create numerical labels for our genres (needed for machine learning)\n",
    "df_sample['genre_id'] = df_sample['Genre'].factorize()[0]\n",
    "\n",
    "# Create mapping dictionaries for later use\n",
    "genre_to_id = dict(zip(df_sample['Genre'], df_sample['genre_id']))\n",
    "id_to_genre = {v: k for k, v in genre_to_id.items()}\n",
    "\n",
    "print(\"Genre to ID mapping:\")\n",
    "for genre, genre_id in sorted(genre_to_id.items()):\n",
    "    print(f\"{genre_id}: {genre}\")\n",
    "\n",
    "# Check the distribution in our sample\n",
    "print(f\"\\nGenre distribution in our sample:\")\n",
    "sample_genre_counts = df_sample['Genre'].value_counts()\n",
    "print(sample_genre_counts)\n"
   ]
  },
  {
   "cell_type": "markdown",
   "metadata": {},
   "source": [
    "## Step 3: Convert Movie Descriptions to TF-IDF Features\n"
   ]
  },
  {
   "cell_type": "markdown",
   "metadata": {},
   "source": [
    "Now comes the exciting part! We'll convert each movie description into a numerical vector using TF-IDF.\n"
   ]
  },
  {
   "cell_type": "code",
   "execution_count": 16,
   "metadata": {},
   "outputs": [
    {
     "name": "stdout",
     "output_type": "stream",
     "text": [
      "Converting movie descriptions to TF-IDF features...\n",
      "This might take a moment...\n",
      "\n",
      "✅ Success!\n",
      "Each of the 10000 movies is now represented by 10000 TF-IDF features\n",
      "These features capture the most important words and phrases from the movie descriptions\n"
     ]
    }
   ],
   "source": [
    "# Create TF-IDF vectorizer (Each movie becomes a list of 10,000 numbers)\n",
    "# Converts movie descriptions (text) into numbers that computers can work with\n",
    "\n",
    "tfidf = TfidfVectorizer(\n",
    "    sublinear_tf=True,      # Use sublinear scaling for term frequency (helps with very frequent words)\n",
    "    min_df=5,               # If a word appears in fewer than 5 movies, ignore i\n",
    "    max_df=0.8,             # If a word appears in more than 80% of movies, ignore it\n",
    "    ngram_range=(1, 2),     # Look at single words AND pairs of words\"\n",
    "    stop_words='english',   # Remove common English words like 'the', 'and', 'is'\n",
    "    max_features=10000      # Only keep the 10,000 most important words\n",
    ")\n",
    "\n",
    "print(\"Converting movie descriptions to TF-IDF features...\")\n",
    "print(\"This might take a moment...\")\n",
    "\n",
    "# Transform movie descriptions into TF-IDF feature vectors\n",
    "features = tfidf.fit_transform(df_sample['Description']).toarray()\n",
    "labels = df_sample['genre_id'].values\n",
    "\n",
    "print(f\"\\n✅ Success!\")\n",
    "print(f\"Each of the {features.shape[0]} movies is now represented by {features.shape[1]} TF-IDF features\")\n",
    "print(f\"These features capture the most important words and phrases from the movie descriptions\")\n"
   ]
  },
  {
   "cell_type": "markdown",
   "metadata": {},
   "source": [
    "Imagine describing a person using only the most distinctive features\n",
    "Instead of \"has eyes, has nose, has mouth\" (everyone has these)\n",
    "You'd say \"has red hair, very tall, wears glasses\" (distinctive features)"
   ]
  },
  {
   "cell_type": "markdown",
   "metadata": {},
   "source": [
    "## Step 4: Discover the Most Characteristic Words for Each Genre\n"
   ]
  },
  {
   "attachments": {
    "09ab8481-c7d6-41aa-9e8e-2c07516428ae.png": {
     "image/png": "[encoded data removed]"
    }
   },
   "cell_type": "markdown",
   "metadata": {},
   "source": [
    "?????what makes each genre unique?????\n",
    "\n",
    "Chi-squared here = “Which words belong most to each genre?”\n",
    "\n",
    "It checks:\n",
    "\n",
    "“Does this word show up way more often in this genre than in others?”\n",
    "\n",
    "looks at every word and gives a score for how strongly it’s linked to that genre.\n",
    "\n",
    "High score = special to that genre\n",
    "\n",
    "Low score = common everywhere\n",
    "\n",
    "\n",
    "![image.png](attachment:09ab8481-c7d6-41aa-9e8e-2c07516428ae.png)\n",
    "\n"
   ]
  },
  {
   "cell_type": "code",
   "execution_count": 18,
   "metadata": {},
   "outputs": [
    {
     "name": "stdout",
     "output_type": "stream",
     "text": [
      "🔍 Most Characteristic Words for Each Movie Genre\n",
      "============================================================\n",
      "\n",
      "🎭 COMEDY:\n",
      "   Most characteristic words: comic, di, mockumentary, hilarious, comedy\n",
      "   Most characteristic phrases: best friend, hilarity ensues, romantic comedy, sketch comedy, comedy series\n",
      "\n",
      "🎭 DOCUMENTARY:\n",
      "   Most characteristic words: film, footage, history, interviews, documentary\n",
      "   Most characteristic phrases: documentary tells, feature length, length documentary, united states, documentary film\n",
      "\n",
      "🎭 DRAMA:\n",
      "   Most characteristic words: daughter, love, father, mother, documentary\n",
      "   Most characteristic phrases: story love, single mother, based true, year old, falls love\n",
      "\n",
      "🎭 HORROR:\n",
      "   Most characteristic words: halloween, zombies, evil, vampire, horror\n",
      "   Most characteristic phrases: college students, horror film, abandoned house, evil spirit, horror movie\n",
      "\n",
      "🎭 SHORT:\n",
      "   Most characteristic words: motion, images, projection, experimental, short\n",
      "   Most characteristic phrases: little boy, experimental film, short documentary, dan bell, short film\n",
      "\n",
      "🎭 THRILLER:\n",
      "   Most characteristic words: detective, killer, murdered, suspect, thriller\n",
      "   Most characteristic phrases: begins suspect, life new, secret service, serial killer, psychological thriller\n"
     ]
    }
   ],
   "source": [
    "# Find the most characteristic words for each genre using chi-squared test\n",
    "# This statistical test helps us find words that are most strongly associated with each genre\n",
    "\n",
    "N = 5  # Number of top words to show for each genre\n",
    "\n",
    "print(\"🔍 Most Characteristic Words for Each Movie Genre\")\n",
    "print(\"=\"*60)\n",
    "\n",
    "for genre in sorted(genre_to_id.keys()):\n",
    "    genre_id = genre_to_id[genre]\n",
    "    \n",
    "    # For each movie type, finds the words that appear way more often in that type\n",
    "    chi2_scores = chi2(features, labels == genre_id)\n",
    "    indices = np.argsort(chi2_scores[0])\n",
    "    \n",
    "    # Get the feature names (words/phrases)\n",
    "    feature_names = np.array(tfidf.get_feature_names_out())[indices]\n",
    "    \n",
    "    # Separate single words from two-word phrases\n",
    "    unigrams = [word for word in feature_names if len(word.split(' ')) == 1]\n",
    "    bigrams = [phrase for phrase in feature_names if len(phrase.split(' ')) == 2]\n",
    "    \n",
    "    print(f\"\\n🎭 {genre.upper()}:\")\n",
    "    print(f\"   Most characteristic words: {', '.join(unigrams[-N:])}\")\n",
    "    print(f\"   Most characteristic phrases: {', '.join(bigrams[-N:])}\")\n"
   ]
  },
  {
   "cell_type": "markdown",
   "metadata": {},
   "source": [
    "## Step 5: Train Machine Learning Models\n"
   ]
  },
  {
   "cell_type": "code",
   "execution_count": 19,
   "metadata": {},
   "outputs": [
    {
     "name": "stdout",
     "output_type": "stream",
     "text": [
      "Training set: 7500 movies\n",
      "Testing set: 2500 movies\n",
      "\n",
      "Genre distribution in training set:\n",
      "Genre\n",
      "drama          2389\n",
      "documentary    2299\n",
      "comedy         1313\n",
      "short           837\n",
      "horror          372\n",
      "thriller        290\n",
      "Name: count, dtype: int64\n"
     ]
    }
   ],
   "source": [
    "# Split our data into training and testing sets\n",
    "X = df_sample['Description']  # Movie descriptions (input)\n",
    "y = df_sample['Genre']        # Movie genres (what we want to predict)\n",
    "\n",
    "X_train, X_test, y_train, y_test = train_test_split(\n",
    "    X, y, \n",
    "    test_size=0.25,    # Use 25% of data for testing\n",
    "    random_state=42,   # For reproducible results\n",
    "    stratify=y         # Ensure balanced representation of each genre\n",
    ")\n",
    "\n",
    "print(f\"Training set: {len(X_train)} movies\")\n",
    "print(f\"Testing set: {len(X_test)} movies\")\n",
    "print(\"\\nGenre distribution in training set:\")\n",
    "print(y_train.value_counts())\n"
   ]
  },
  {
   "cell_type": "markdown",
   "metadata": {},
   "source": [
    "Naive Bayes:\n",
    "Counts how often each word appears in each genre\n",
    "When predicting, it asks: \"Based on the words I see, which genre is most likely?\"\n",
    "\n",
    "\n",
    "Logistic Regression:\n",
    "Learns a \"weight\" for each word that pushes toward or away from each genre\n",
    "Example: \"zombie\" gets a high positive weight for horror, negative weight for romance\n",
    "Combines all word weights to make final prediction\"\n",
    "\n",
    "Random Forest\n",
    "Creates 100 different decision trees, each trained on different subsets of data\n",
    "Each tree makes a prediction, then they \"vote\" on the final answer\n",
    "Example: 60 trees say \"horror\", 30 say \"thriller\", 10 say \"drama\" → predicts \"horror\"\n",
    "\n",
    "\n",
    "Linear SVM (Support Vector Machine)\n",
    "Finds the best \"line\" (hyperplane) that separates different genres in the 10,000-dimensional space\n",
    "Maximizes the \"margin\" - the distance between the separating line and the closest data points\n",
    "Makes predictions based on which side of the line new data falls on\n",
    "\n",
    "\n",
    "\n",
    "\n",
    "\n",
    "Naive Bayes: Counts word frequencies per genre\n",
    "Logistic Regression: Learns word weights\n",
    "Random Forest: Builds decision trees\n",
    "SVM: Finds separating boundaries"
   ]
  },
  {
   "cell_type": "code",
   "execution_count": 20,
   "metadata": {},
   "outputs": [
    {
     "name": "stdout",
     "output_type": "stream",
     "text": [
      "🤖 Training and Evaluating Different Models\n",
      "==================================================\n",
      "\n",
      "Training Naive Bayes...\n",
      "   Average Accuracy: 0.583 (±0.003)\n",
      "\n",
      "Training Logistic Regression...\n",
      "   Average Accuracy: 0.645 (±0.004)\n",
      "\n",
      "Training Random Forest...\n",
      "   Average Accuracy: 0.581 (±0.003)\n",
      "\n",
      "Training Linear SVM...\n",
      "   Average Accuracy: 0.642 (±0.006)\n"
     ]
    }
   ],
   "source": [
    "# Let's test 4 different machine learning algorithms\n",
    "models = [\n",
    "    ('Naive Bayes', MultinomialNB()),\n",
    "    ('Logistic Regression', LogisticRegression(random_state=42, max_iter=1000)),\n",
    "    ('Random Forest', RandomForestClassifier(n_estimators=100, random_state=42)),\n",
    "    ('Linear SVM', LinearSVC(random_state=42, max_iter=2000, dual=False))  # dual=False to avoid warning\n",
    "]\n",
    "\n",
    "# Use cross-validation to evaluate each model\n",
    "# This trains each model multiple times on different parts of the data\n",
    "cv_results = []\n",
    "cv_folds = 3  # Number of cross-validation folds\n",
    "\n",
    "print(\"🤖 Training and Evaluating Different Models\")\n",
    "print(\"=\"*50)\n",
    "\n",
    "for name, model in models:\n",
    "    print(f\"\\nTraining {name}...\")\n",
    "    \n",
    "    # Perform cross-validation\n",
    "    #Splits data into 3 parts (cv_folds = 3)\n",
    "    #Round 1: Train on parts 1+2, test on part 3\n",
    "    #Round 2: Train on parts 1+3, test on part 2\n",
    "    #Round 3: Train on parts 2+3, test on part 1\n",
    "    #Average the 3 results to get final score\n",
    "    cv_scores = cross_val_score(model, features, labels, cv=cv_folds, scoring='accuracy')\n",
    "    \n",
    "    # Store results\n",
    "    for fold, score in enumerate(cv_scores):\n",
    "        cv_results.append({\n",
    "            'Model': name,\n",
    "            'Fold': fold + 1,\n",
    "            'Accuracy': score\n",
    "        })\n",
    "    \n",
    "    # Print results\n",
    "    mean_accuracy = cv_scores.mean()\n",
    "    std_accuracy = cv_scores.std()\n",
    "    print(f\"   Average Accuracy: {mean_accuracy:.3f} (±{std_accuracy:.3f})\")\n",
    "\n",
    "# Convert results to DataFrame for easy analysis\n",
    "cv_df = pd.DataFrame(cv_results)\n"
   ]
  },
  {
   "cell_type": "markdown",
   "metadata": {},
   "source": [
    "you can see the Consistency vs. Performance Trade-off"
   ]
  },
  {
   "cell_type": "code",
   "execution_count": 27,
   "metadata": {},
   "outputs": [
    {
     "name": "stdout",
     "output_type": "stream",
     "text": [
      "\n",
      "📊 Model Performance Summary:\n",
      "========================================\n",
      "                     Mean Accuracy  Standard Deviation\n",
      "Model                                                 \n",
      "Linear SVM                   0.641               0.008\n",
      "Logistic Regression          0.636               0.006\n",
      "Naive Bayes                  0.578               0.002\n",
      "Random Forest                0.578               0.007\n",
      "\n",
      "🏆 Best Model: Linear SVM with 64.1% accuracy\n",
      "\n",
      "💡 Results Analysis:\n",
      "==============================\n",
      "✅ Linear SVM and Logistic Regression perform best (~64% accuracy)\n",
      "📊 This is quite good for 6-class classification (random guessing = 16.7%)\n",
      "🎯 Our model is nearly 4x better than random chance!\n",
      "🔍 Naive Bayes and Random Forest show lower performance (~58%)\n",
      "📈 The high accuracy suggests TF-IDF features work well for movie genre classification\n"
     ]
    }
   ],
   "source": [
    "# Create a summary table of model performance\n",
    "model_summary = cv_df.groupby('Model')['Accuracy'].agg(['mean', 'std']).round(3)\n",
    "model_summary.columns = ['Mean Accuracy', 'Standard Deviation']\n",
    "model_summary = model_summary.sort_values('Mean Accuracy', ascending=False)\n",
    "\n",
    "print(\"\\n📊 Model Performance Summary:\")\n",
    "print(\"=\"*40)\n",
    "print(model_summary)\n",
    "\n",
    "# Find the best performing model\n",
    "best_model_name = model_summary.index[0]\n",
    "best_accuracy = model_summary.iloc[0]['Mean Accuracy']\n",
    "print(f\"\\n🏆 Best Model: {best_model_name} with {best_accuracy:.1%} accuracy\")\n",
    "\n",
    "print(f\"\\n💡 Results Analysis:\")\n",
    "print(f\"=\"*30)\n",
    "print(f\"✅ Linear SVM and Logistic Regression perform best (~64% accuracy)\")\n",
    "print(f\"📊 This is quite good for 6-class classification (random guessing = 16.7%)\")\n",
    "print(f\"🎯 Our model is nearly 4x better than random chance!\")\n",
    "print(f\"🔍 Naive Bayes and Random Forest show lower performance (~58%)\")\n",
    "print(f\"📈 The high accuracy suggests TF-IDF features work well for movie genre classification\")\n"
   ]
  },
  {
   "cell_type": "code",
   "execution_count": 28,
   "metadata": {},
   "outputs": [
    {
     "name": "stderr",
     "output_type": "stream",
     "text": [
      "C:\\Users\\sahar\\AppData\\Local\\Temp\\ipykernel_16728\\2553854254.py:5: FutureWarning: \n",
      "\n",
      "Passing `palette` without assigning `hue` is deprecated and will be removed in v0.14.0. Assign the `x` variable to `hue` and set `legend=False` for the same effect.\n",
      "\n",
      "  sns.boxplot(data=cv_df, x='Model', y='Accuracy', palette='Set2')\n"
     ]
    },
    {
     "data": {
      "image/png": "[encoded data removed]",
      "text/plain": [
       "<Figure size 1000x600 with 1 Axes>"
      ]
     },
     "metadata": {},
     "output_type": "display_data"
    }
   ],
   "source": [
    "# Visualize model performance\n",
    "plt.figure(figsize=(10, 6))\n",
    "\n",
    "# Create box plot showing accuracy distribution for each model\n",
    "sns.boxplot(data=cv_df, x='Model', y='Accuracy', palette='Set2')\n",
    "plt.title('Model Performance Comparison', fontsize=16, fontweight='bold')\n",
    "plt.ylabel('Accuracy')\n",
    "plt.xlabel('Machine Learning Model')\n",
    "plt.xticks(rotation=45)\n",
    "\n",
    "# Add mean accuracy labels\n",
    "for i, model in enumerate(model_summary.index):\n",
    "    mean_acc = model_summary.loc[model, 'Mean Accuracy']\n",
    "    plt.text(i, mean_acc + 0.01, f'{mean_acc:.3f}', \n",
    "             ha='center', va='bottom', fontweight='bold')\n",
    "\n",
    "plt.tight_layout()\n",
    "plt.show()\n"
   ]
  },
  {
   "cell_type": "markdown",
   "metadata": {},
   "source": [
    "## Step 6: Detailed Analysis of Our Best Model\n"
   ]
  },
  {
   "cell_type": "markdown",
   "metadata": {},
   "source": [
    "Let's train our best model on the full dataset and analyze its performance in detail.\n"
   ]
  },
  {
   "cell_type": "code",
   "execution_count": 29,
   "metadata": {},
   "outputs": [
    {
     "name": "stdout",
     "output_type": "stream",
     "text": [
      "🎯 Model Training Complete!\n",
      "Training accuracy: 0.997\n",
      "Testing accuracy: 0.627\n"
     ]
    }
   ],
   "source": [
    "# Train the best model on our data\n",
    "# We'll use Linear SVM as it typically performs well on text classification\n",
    "\n",
    "# Split features into train/test (matching our earlier split)\n",
    "X_train_features, X_test_features, y_train_labels, y_test_labels = train_test_split(\n",
    "    features, labels, test_size=0.25, random_state=42, stratify=labels\n",
    ")\n",
    "\n",
    "# Train the best model\n",
    "best_model = LinearSVC(random_state=42, max_iter=2000, dual=False)\n",
    "best_model.fit(X_train_features, y_train_labels)\n",
    "\n",
    "# Make predictions on test set\n",
    "y_pred = best_model.predict(X_test_features)\n",
    "\n",
    "print(\"🎯 Model Training Complete!\")\n",
    "print(f\"Training accuracy: {best_model.score(X_train_features, y_train_labels):.3f}\")\n",
    "print(f\"Testing accuracy: {best_model.score(X_test_features, y_test_labels):.3f}\")\n"
   ]
  },
  {
   "cell_type": "code",
   "execution_count": null,
   "metadata": {},
   "outputs": [
    {
     "name": "stdout",
     "output_type": "stream",
     "text": [
      "📋 Detailed Classification Report\n",
      "==================================================\n",
      "              precision    recall  f1-score   support\n",
      "\n",
      "      comedy       0.57      0.56      0.56       353\n",
      " documentary       0.74      0.83      0.78       602\n",
      "       drama       0.59      0.71      0.64       648\n",
      "      horror       0.70      0.55      0.61        99\n",
      "       short       0.36      0.18      0.24       222\n",
      "    thriller       0.42      0.13      0.20        76\n",
      "\n",
      "    accuracy                           0.63      2000\n",
      "   macro avg       0.56      0.49      0.51      2000\n",
      "weighted avg       0.61      0.63      0.61      2000\n",
      "\n"
     ]
    }
   ],
   "source": [
    "# Generate detailed classification report\n",
    "print(\"📋 Detailed Classification Report\")\n",
    "print(\"=\"*50)\n",
    "\n",
    "# Convert numeric labels back to genre names for the report\n",
    "y_test_genres = [id_to_genre[label] for label in y_test_labels]\n",
    "y_pred_genres = [id_to_genre[label] for label in y_pred]\n",
    "\n",
    "report = classification_report(y_test_genres, y_pred_genres, \n",
    "                             target_names=sorted(genre_to_id.keys()))\n",
    "print(report)\n"
   ]
  },
  {
   "cell_type": "code",
   "execution_count": null,
   "metadata": {},
   "outputs": [
    {
     "data": {
      "image/png": "[encoded data removed]",
      "text/plain": [
       "<Figure size 1000x800 with 2 Axes>"
      ]
     },
     "metadata": {},
     "output_type": "display_data"
    },
    {
     "name": "stdout",
     "output_type": "stream",
     "text": [
      "\n",
      "💡 How to read this confusion matrix:\n",
      "- Diagonal values (dark blue) = correct predictions\n",
      "- Off-diagonal values = misclassifications\n",
      "- Higher numbers on diagonal = better performance for that genre\n"
     ]
    }
   ],
   "source": [
    "# Create and visualize confusion matrix\n",
    "conf_matrix = confusion_matrix(y_test_labels, y_pred)\n",
    "\n",
    "plt.figure(figsize=(10, 8))\n",
    "sns.heatmap(conf_matrix, \n",
    "            annot=True, \n",
    "            fmt='d',\n",
    "            cmap='Blues',\n",
    "            xticklabels=[id_to_genre[i] for i in sorted(id_to_genre.keys())],\n",
    "            yticklabels=[id_to_genre[i] for i in sorted(id_to_genre.keys())])\n",
    "\n",
    "plt.title('Confusion Matrix - Movie Genre Classification', fontsize=16, fontweight='bold')\n",
    "plt.ylabel('True Genre')\n",
    "plt.xlabel('Predicted Genre')\n",
    "plt.xticks(rotation=45, ha='right')\n",
    "plt.yticks(rotation=0)\n",
    "plt.tight_layout()\n",
    "plt.show()\n",
    "\n",
    "print(\"\\n💡 How to read this confusion matrix:\")\n",
    "print(\"- Diagonal values (dark blue) = correct predictions\")\n",
    "print(\"- Off-diagonal values = misclassifications\")\n",
    "print(\"- Higher numbers on diagonal = better performance for that genre\")\n"
   ]
  },
  {
   "cell_type": "markdown",
   "metadata": {},
   "source": [
    "## Step 7: Test Our Model on New Movie Descriptions!\n"
   ]
  },
  {
   "cell_type": "markdown",
   "metadata": {},
   "source": [
    "Now for the fun part! Let's test our trained model on some new movie descriptions and see if it can correctly predict their genres.\n"
   ]
  },
  {
   "cell_type": "code",
   "execution_count": null,
   "metadata": {},
   "outputs": [
    {
     "name": "stdout",
     "output_type": "stream",
     "text": [
      "🎬 Testing Our Model on New Movie Descriptions\n",
      "=======================================================\n",
      "\n",
      "🎭 Test Movie 1:\n",
      "Description: A young wizard discovers he has magical powers and must attend a school for wizards while fighting against an evil dark lord who killed his parents.\n",
      "Expected Genre: fantasy\n",
      "Predicted Genre: horror\n",
      "❌ Incorrect prediction\n",
      "\n",
      "🎭 Test Movie 2:\n",
      "Description: Two detectives investigate a series of gruesome murders in a dark city. The killer leaves cryptic clues at each crime scene that lead to a shocking revelation.\n",
      "Expected Genre: thriller\n",
      "Predicted Genre: horror\n",
      "❌ Incorrect prediction\n",
      "\n",
      "🎭 Test Movie 3:\n",
      "Description: A romantic comedy about two people who meet at a coffee shop and fall in love despite their different backgrounds and hilarious misunderstandings.\n",
      "Expected Genre: comedy\n",
      "Predicted Genre: comedy\n",
      "✅ Correct prediction!\n",
      "\n",
      "🎭 Test Movie 4:\n",
      "Description: In the year 2150, humans have colonized Mars. When aliens attack Earth, a space marine must lead the resistance to save humanity from extinction.\n",
      "Expected Genre: sci-fi\n",
      "Predicted Genre: short\n",
      "❌ Incorrect prediction\n",
      "\n",
      "🎭 Test Movie 5:\n",
      "Description: A family struggles to survive during the Great Depression. The father loses his job and they must overcome poverty and hardship while staying together.\n",
      "Expected Genre: drama\n",
      "Predicted Genre: drama\n",
      "✅ Correct prediction!\n"
     ]
    }
   ],
   "source": [
    "# Create a function to predict genre from movie description\n",
    "def predict_movie_genre(description, model=best_model, vectorizer=tfidf):\n",
    "    \"\"\"\n",
    "    Predict the genre of a movie based on its description\n",
    "    \"\"\"\n",
    "    # Convert description to TF-IDF features\n",
    "    description_features = vectorizer.transform([description])\n",
    "    \n",
    "    # Make prediction\n",
    "    prediction = model.predict(description_features)[0]\n",
    "    \n",
    "    # Get prediction probabilities (confidence scores)\n",
    "    decision_scores = model.decision_function(description_features)[0]\n",
    "    \n",
    "    # Convert to genre name\n",
    "    predicted_genre = id_to_genre[prediction]\n",
    "    \n",
    "    return predicted_genre, decision_scores\n",
    "\n",
    "# Test with some example movie descriptions\n",
    "test_movies = [\n",
    "    {\n",
    "        \"description\": \"A young wizard discovers he has magical powers and must attend a school for wizards while fighting against an evil dark lord who killed his parents.\",\n",
    "        \"expected_genre\": \"fantasy\"\n",
    "    },\n",
    "    {\n",
    "        \"description\": \"Two detectives investigate a series of gruesome murders in a dark city. The killer leaves cryptic clues at each crime scene that lead to a shocking revelation.\",\n",
    "        \"expected_genre\": \"thriller\"\n",
    "    },\n",
    "    {\n",
    "        \"description\": \"A romantic comedy about two people who meet at a coffee shop and fall in love despite their different backgrounds and hilarious misunderstandings.\",\n",
    "        \"expected_genre\": \"comedy\"\n",
    "    },\n",
    "    {\n",
    "        \"description\": \"In the year 2150, humans have colonized Mars. When aliens attack Earth, a space marine must lead the resistance to save humanity from extinction.\",\n",
    "        \"expected_genre\": \"sci-fi\"\n",
    "    },\n",
    "    {\n",
    "        \"description\": \"A family struggles to survive during the Great Depression. The father loses his job and they must overcome poverty and hardship while staying together.\",\n",
    "        \"expected_genre\": \"drama\"\n",
    "    }\n",
    "]\n",
    "\n",
    "print(\"🎬 Testing Our Model on New Movie Descriptions\")\n",
    "print(\"=\"*55)\n",
    "\n",
    "for i, movie in enumerate(test_movies, 1):\n",
    "    predicted_genre, scores = predict_movie_genre(movie[\"description\"])\n",
    "    \n",
    "    print(f\"\\n🎭 Test Movie {i}:\")\n",
    "    print(f\"Description: {movie['description']}\")\n",
    "    print(f\"Expected Genre: {movie['expected_genre']}\")\n",
    "    print(f\"Predicted Genre: {predicted_genre}\")\n",
    "    \n",
    "    # Check if prediction matches expectation\n",
    "    if predicted_genre.lower() == movie['expected_genre'].lower():\n",
    "        print(\"✅ Correct prediction!\")\n",
    "    else:\n",
    "        print(\"❌ Incorrect prediction\")\n"
   ]
  },
  {
   "cell_type": "markdown",
   "metadata": {},
   "source": [
    "## Interactive Testing - Try Your Own Movie Description!\n"
   ]
  },
  {
   "cell_type": "code",
   "execution_count": null,
   "metadata": {},
   "outputs": [
    {
     "name": "stdout",
     "output_type": "stream",
     "text": [
      "🎯 Predicting Genre for Your Movie Description:\n",
      "==================================================\n",
      "Description: A group of friends go on a camping trip in the woods, but they soon realize they are not alone. \n",
      "Strange sounds echo through the forest at night, and one by one, the friends start disappearing. \n",
      "The survivors must fight for their lives against an unknown evil that lurks in the darkness.\n",
      "\n",
      "🎭 Predicted Genre: horror\n",
      "\n",
      "📊 Confidence Scores for All Genres:\n",
      "   comedy: -1.170\n",
      "   documentary: -1.563\n",
      "   drama: -1.217\n",
      "   horror: 0.999\n",
      "   short: -1.123\n",
      "   thriller: -0.688\n",
      "\n",
      "💡 The model is most confident that this is a 'horror' movie!\n",
      "\n",
      "🔄 To test another movie, simply change the 'your_movie_description' text above and run this cell again!\n"
     ]
    }
   ],
   "source": [
    "# Try predicting the genre of your own movie description!\n",
    "# Simply change the text below to test different movie plots\n",
    "\n",
    "your_movie_description = \"\"\"\n",
    "A group of friends go on a camping trip in the woods, but they soon realize they are not alone. \n",
    "Strange sounds echo through the forest at night, and one by one, the friends start disappearing. \n",
    "The survivors must fight for their lives against an unknown evil that lurks in the darkness.\n",
    "\"\"\"\n",
    "\n",
    "print(\"🎯 Predicting Genre for Your Movie Description:\")\n",
    "print(\"=\"*50)\n",
    "print(f\"Description: {your_movie_description.strip()}\")\n",
    "\n",
    "predicted_genre, confidence_scores = predict_movie_genre(your_movie_description)\n",
    "print(f\"\\n🎭 Predicted Genre: {predicted_genre}\")\n",
    "\n",
    "# Show confidence scores for all genres\n",
    "print(f\"\\n📊 Confidence Scores for All Genres:\")\n",
    "for i, genre in enumerate(sorted(genre_to_id.keys())):\n",
    "    genre_id = genre_to_id[genre]\n",
    "    score = confidence_scores[genre_id]\n",
    "    print(f\"   {genre}: {score:.3f}\")\n",
    "\n",
    "print(f\"\\n💡 The model is most confident that this is a '{predicted_genre}' movie!\")\n",
    "print(\"\\n🔄 To test another movie, simply change the 'your_movie_description' text above and run this cell again!\")\n"
   ]
  },
  {
   "cell_type": "markdown",
   "metadata": {},
   "source": [
    "# 🎉 Congratulations! You've Built a Movie Genre Classifier!\n"
   ]
  },
  {
   "cell_type": "markdown",
   "metadata": {},
   "source": [
    "## What We've Accomplished\n",
    "\n",
    "In this tutorial, we've successfully:\n",
    "\n",
    "1. **📚 Learned TF-IDF Theory**: Understanding how Term Frequency and Inverse Document Frequency work together to identify important words\n",
    "\n",
    "2. **🎬 Loaded Real Movie Data**: Processed thousands of movie descriptions and genres from a real dataset\n",
    "\n",
    "3. **🔍 Explored Genre Patterns**: Discovered which words are most characteristic of different movie genres\n",
    "\n",
    "4. **🤖 Trained Multiple Models**: Compared 4 different machine learning algorithms to find the best performer\n",
    "\n",
    "5. **📊 Evaluated Performance**: Used confusion matrices and classification reports to understand model strengths and weaknesses\n",
    "\n",
    "6. **🎯 Made Predictions**: Successfully classified new movie descriptions into genres\n",
    "\n",
    "## Key Insights\n",
    "\n",
    "- **TF-IDF is powerful** for text classification because it captures both word frequency and rarity\n",
    "- **Different genres have distinct vocabularies** (horror uses \"ghost\", \"haunted\"; sci-fi uses \"space\", \"alien\")\n",
    "- **Linear SVM performed best** on our text classification task\n",
    "- **The model achieved good accuracy** and can generalize to new movie descriptions\n",
    "\n",
    "## Real-World Applications\n",
    "\n",
    "This same approach can be used for:\n",
    "- **Movie recommendation systems** (Netflix, Amazon Prime)\n",
    "- **Content moderation** (automatically flagging inappropriate content)\n",
    "- **News article categorization** (sports, politics, entertainment)\n",
    "- **Email spam detection** (spam vs. legitimate emails)\n",
    "- **Product review analysis** (positive vs. negative sentiment)\n",
    "\n",
    "## Next Steps\n",
    "\n",
    "To improve this model further, you could:\n",
    "- Use more sophisticated text preprocessing (lemmatization, named entity recognition)\n",
    "- Try deep learning models (BERT, transformers)\n",
    "- Include additional features (movie year, director, cast)\n",
    "- Use more training data\n",
    "- Fine-tune hyperparameters\n",
    "\n",
    "**Great job completing this TF-IDF tutorial! You now have the skills to tackle text classification problems in many domains.** 🚀\n"
   ]
  },
  {
   "cell_type": "markdown",
   "metadata": {},
   "source": [
    "\n"
   ]
  },
  {
   "cell_type": "markdown",
   "metadata": {},
   "source": [
    "\n"
   ]
  },
  {
   "cell_type": "markdown",
   "metadata": {},
   "source": [
    "\n"
   ]
  },
  {
   "cell_type": "markdown",
   "metadata": {},
   "source": [
    "\n"
   ]
  },
  {
   "cell_type": "markdown",
   "metadata": {},
   "source": [
    "\n"
   ]
  },
  {
   "cell_type": "markdown",
   "metadata": {},
   "source": [
    "\n"
   ]
  },
  {
   "cell_type": "markdown",
   "metadata": {},
   "source": [
    "\n"
   ]
  },
  {
   "cell_type": "markdown",
   "metadata": {},
   "source": [
    "\n"
   ]
  },
  {
   "cell_type": "code",
   "execution_count": null,
   "metadata": {},
   "outputs": [],
   "source": [
    "\n"
   ]
  },
  {
   "cell_type": "code",
   "execution_count": null,
   "metadata": {},
   "outputs": [],
   "source": [
    "\n"
   ]
  },
  {
   "cell_type": "markdown",
   "metadata": {},
   "source": [
    "\n"
   ]
  },
  {
   "cell_type": "code",
   "execution_count": null,
   "metadata": {},
   "outputs": [],
   "source": [
    "\n"
   ]
  },
  {
   "cell_type": "markdown",
   "metadata": {},
   "source": [
    "\n"
   ]
  },
  {
   "cell_type": "code",
   "execution_count": null,
   "metadata": {},
   "outputs": [],
   "source": [
    "\n"
   ]
  },
  {
   "cell_type": "code",
   "execution_count": null,
   "metadata": {},
   "outputs": [],
   "source": [
    "\n"
   ]
  },
  {
   "cell_type": "markdown",
   "metadata": {},
   "source": [
    "\n"
   ]
  },
  {
   "cell_type": "code",
   "execution_count": null,
   "metadata": {},
   "outputs": [],
   "source": [
    "\n"
   ]
  },
  {
   "cell_type": "code",
   "execution_count": null,
   "metadata": {},
   "outputs": [],
   "source": [
    "\n"
   ]
  },
  {
   "cell_type": "code",
   "execution_count": null,
   "metadata": {},
   "outputs": [],
   "source": [
    "\n"
   ]
  },
  {
   "cell_type": "markdown",
   "metadata": {},
   "source": [
    "\n"
   ]
  },
  {
   "cell_type": "code",
   "execution_count": null,
   "metadata": {},
   "outputs": [],
   "source": [
    "\n"
   ]
  },
  {
   "cell_type": "code",
   "execution_count": null,
   "metadata": {},
   "outputs": [],
   "source": [
    "\n"
   ]
  },
  {
   "cell_type": "markdown",
   "metadata": {},
   "source": [
    "\n"
   ]
  },
  {
   "cell_type": "markdown",
   "metadata": {},
   "source": [
    "\n"
   ]
  },
  {
   "cell_type": "code",
   "execution_count": null,
   "metadata": {},
   "outputs": [],
   "source": [
    "\n"
   ]
  },
  {
   "cell_type": "code",
   "execution_count": null,
   "metadata": {},
   "outputs": [],
   "source": [
    "\n"
   ]
  },
  {
   "cell_type": "code",
   "execution_count": null,
   "metadata": {},
   "outputs": [],
   "source": [
    "\n"
   ]
  },
  {
   "cell_type": "markdown",
   "metadata": {},
   "source": [
    "\n"
   ]
  },
  {
   "cell_type": "markdown",
   "metadata": {},
   "source": [
    "\n"
   ]
  },
  {
   "cell_type": "code",
   "execution_count": null,
   "metadata": {},
   "outputs": [],
   "source": [
    "\n"
   ]
  },
  {
   "cell_type": "code",
   "execution_count": null,
   "metadata": {},
   "outputs": [],
   "source": [
    "\n"
   ]
  },
  {
   "cell_type": "markdown",
   "metadata": {},
   "source": [
    "\n"
   ]
  },
  {
   "cell_type": "markdown",
   "metadata": {},
   "source": [
    "\n"
   ]
  }
 ],
 "metadata": {
  "kernelspec": {
   "display_name": "Python 3 (ipykernel)",
   "language": "python",
   "name": "python3"
  },
  "language_info": {
   "codemirror_mode": {
    "name": "ipython",
    "version": 3
   },
   "file_extension": ".py",
   "mimetype": "text/x-python",
   "name": "python",
   "nbconvert_exporter": "python",
   "pygments_lexer": "ipython3",
   "version": "3.10.16"
  }
 },
 "nbformat": 4,
 "nbformat_minor": 4
}
